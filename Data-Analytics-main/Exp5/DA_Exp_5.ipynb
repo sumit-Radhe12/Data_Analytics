{
  "nbformat": 4,
  "nbformat_minor": 0,
  "metadata": {
    "colab": {
      "name": "DA Exp 5.ipynb",
      "provenance": []
    },
    "kernelspec": {
      "name": "python3",
      "display_name": "Python 3"
    },
    "language_info": {
      "name": "python"
    }
  },
  "cells": [
    {
      "cell_type": "code",
      "execution_count": null,
      "metadata": {
        "id": "wMZles9EyjUk"
      },
      "outputs": [],
      "source": [
        "import pandas as pd\n",
        "from mlxtend.frequent_patterns import apriori, association_rules"
      ]
    },
    {
      "cell_type": "markdown",
      "source": [
        "## Excercise 1"
      ],
      "metadata": {
        "id": "vMhS-Tto-tAt"
      }
    },
    {
      "cell_type": "code",
      "source": [
        "df1Lst = [\n",
        "          [1, 1, 0, 1, 0, 1],\n",
        "          [1, 1, 1, 1, 1, 0],\n",
        "          [1, 1, 1, 0, 1, 0],\n",
        "          [1, 1, 0, 1, 0, 0],\n",
        "]\n",
        "\n",
        "df1 = pd.DataFrame(df1Lst, columns=['A', 'B', 'C', 'D', 'E', 'K'])\n",
        "df1"
      ],
      "metadata": {
        "colab": {
          "base_uri": "https://localhost:8080/",
          "height": 174
        },
        "id": "Iwkfqawn5yDF",
        "outputId": "8e2ee21f-a4c0-4384-eb34-f6f0de64a45d"
      },
      "execution_count": null,
      "outputs": [
        {
          "output_type": "execute_result",
          "data": {
            "text/plain": [
              "   A  B  C  D  E  K\n",
              "0  1  1  0  1  0  1\n",
              "1  1  1  1  1  1  0\n",
              "2  1  1  1  0  1  0\n",
              "3  1  1  0  1  0  0"
            ],
            "text/html": [
              "\n",
              "  <div id=\"df-538e7ca0-be02-4936-b0cf-11bfdf5a7b84\">\n",
              "    <div class=\"colab-df-container\">\n",
              "      <div>\n",
              "<style scoped>\n",
              "    .dataframe tbody tr th:only-of-type {\n",
              "        vertical-align: middle;\n",
              "    }\n",
              "\n",
              "    .dataframe tbody tr th {\n",
              "        vertical-align: top;\n",
              "    }\n",
              "\n",
              "    .dataframe thead th {\n",
              "        text-align: right;\n",
              "    }\n",
              "</style>\n",
              "<table border=\"1\" class=\"dataframe\">\n",
              "  <thead>\n",
              "    <tr style=\"text-align: right;\">\n",
              "      <th></th>\n",
              "      <th>A</th>\n",
              "      <th>B</th>\n",
              "      <th>C</th>\n",
              "      <th>D</th>\n",
              "      <th>E</th>\n",
              "      <th>K</th>\n",
              "    </tr>\n",
              "  </thead>\n",
              "  <tbody>\n",
              "    <tr>\n",
              "      <th>0</th>\n",
              "      <td>1</td>\n",
              "      <td>1</td>\n",
              "      <td>0</td>\n",
              "      <td>1</td>\n",
              "      <td>0</td>\n",
              "      <td>1</td>\n",
              "    </tr>\n",
              "    <tr>\n",
              "      <th>1</th>\n",
              "      <td>1</td>\n",
              "      <td>1</td>\n",
              "      <td>1</td>\n",
              "      <td>1</td>\n",
              "      <td>1</td>\n",
              "      <td>0</td>\n",
              "    </tr>\n",
              "    <tr>\n",
              "      <th>2</th>\n",
              "      <td>1</td>\n",
              "      <td>1</td>\n",
              "      <td>1</td>\n",
              "      <td>0</td>\n",
              "      <td>1</td>\n",
              "      <td>0</td>\n",
              "    </tr>\n",
              "    <tr>\n",
              "      <th>3</th>\n",
              "      <td>1</td>\n",
              "      <td>1</td>\n",
              "      <td>0</td>\n",
              "      <td>1</td>\n",
              "      <td>0</td>\n",
              "      <td>0</td>\n",
              "    </tr>\n",
              "  </tbody>\n",
              "</table>\n",
              "</div>\n",
              "      <button class=\"colab-df-convert\" onclick=\"convertToInteractive('df-538e7ca0-be02-4936-b0cf-11bfdf5a7b84')\"\n",
              "              title=\"Convert this dataframe to an interactive table.\"\n",
              "              style=\"display:none;\">\n",
              "        \n",
              "  <svg xmlns=\"http://www.w3.org/2000/svg\" height=\"24px\"viewBox=\"0 0 24 24\"\n",
              "       width=\"24px\">\n",
              "    <path d=\"M0 0h24v24H0V0z\" fill=\"none\"/>\n",
              "    <path d=\"M18.56 5.44l.94 2.06.94-2.06 2.06-.94-2.06-.94-.94-2.06-.94 2.06-2.06.94zm-11 1L8.5 8.5l.94-2.06 2.06-.94-2.06-.94L8.5 2.5l-.94 2.06-2.06.94zm10 10l.94 2.06.94-2.06 2.06-.94-2.06-.94-.94-2.06-.94 2.06-2.06.94z\"/><path d=\"M17.41 7.96l-1.37-1.37c-.4-.4-.92-.59-1.43-.59-.52 0-1.04.2-1.43.59L10.3 9.45l-7.72 7.72c-.78.78-.78 2.05 0 2.83L4 21.41c.39.39.9.59 1.41.59.51 0 1.02-.2 1.41-.59l7.78-7.78 2.81-2.81c.8-.78.8-2.07 0-2.86zM5.41 20L4 18.59l7.72-7.72 1.47 1.35L5.41 20z\"/>\n",
              "  </svg>\n",
              "      </button>\n",
              "      \n",
              "  <style>\n",
              "    .colab-df-container {\n",
              "      display:flex;\n",
              "      flex-wrap:wrap;\n",
              "      gap: 12px;\n",
              "    }\n",
              "\n",
              "    .colab-df-convert {\n",
              "      background-color: #E8F0FE;\n",
              "      border: none;\n",
              "      border-radius: 50%;\n",
              "      cursor: pointer;\n",
              "      display: none;\n",
              "      fill: #1967D2;\n",
              "      height: 32px;\n",
              "      padding: 0 0 0 0;\n",
              "      width: 32px;\n",
              "    }\n",
              "\n",
              "    .colab-df-convert:hover {\n",
              "      background-color: #E2EBFA;\n",
              "      box-shadow: 0px 1px 2px rgba(60, 64, 67, 0.3), 0px 1px 3px 1px rgba(60, 64, 67, 0.15);\n",
              "      fill: #174EA6;\n",
              "    }\n",
              "\n",
              "    [theme=dark] .colab-df-convert {\n",
              "      background-color: #3B4455;\n",
              "      fill: #D2E3FC;\n",
              "    }\n",
              "\n",
              "    [theme=dark] .colab-df-convert:hover {\n",
              "      background-color: #434B5C;\n",
              "      box-shadow: 0px 1px 3px 1px rgba(0, 0, 0, 0.15);\n",
              "      filter: drop-shadow(0px 1px 2px rgba(0, 0, 0, 0.3));\n",
              "      fill: #FFFFFF;\n",
              "    }\n",
              "  </style>\n",
              "\n",
              "      <script>\n",
              "        const buttonEl =\n",
              "          document.querySelector('#df-538e7ca0-be02-4936-b0cf-11bfdf5a7b84 button.colab-df-convert');\n",
              "        buttonEl.style.display =\n",
              "          google.colab.kernel.accessAllowed ? 'block' : 'none';\n",
              "\n",
              "        async function convertToInteractive(key) {\n",
              "          const element = document.querySelector('#df-538e7ca0-be02-4936-b0cf-11bfdf5a7b84');\n",
              "          const dataTable =\n",
              "            await google.colab.kernel.invokeFunction('convertToInteractive',\n",
              "                                                     [key], {});\n",
              "          if (!dataTable) return;\n",
              "\n",
              "          const docLinkHtml = 'Like what you see? Visit the ' +\n",
              "            '<a target=\"_blank\" href=https://colab.research.google.com/notebooks/data_table.ipynb>data table notebook</a>'\n",
              "            + ' to learn more about interactive tables.';\n",
              "          element.innerHTML = '';\n",
              "          dataTable['output_type'] = 'display_data';\n",
              "          await google.colab.output.renderOutput(dataTable, element);\n",
              "          const docLink = document.createElement('div');\n",
              "          docLink.innerHTML = docLinkHtml;\n",
              "          element.appendChild(docLink);\n",
              "        }\n",
              "      </script>\n",
              "    </div>\n",
              "  </div>\n",
              "  "
            ]
          },
          "metadata": {},
          "execution_count": 14
        }
      ]
    },
    {
      "cell_type": "code",
      "source": [
        "frq_items = apriori(df1, min_support = 0.6, use_colnames = True)\n",
        "print(frq_items)\n",
        "rules = association_rules(frq_items, metric =\"lift\", min_threshold = 0.6)\n",
        "print(rules)"
      ],
      "metadata": {
        "colab": {
          "base_uri": "https://localhost:8080/"
        },
        "id": "EGIv7JNI7uak",
        "outputId": "033e0f0d-8e20-4e55-d4cb-1c66b1aeba21"
      },
      "execution_count": null,
      "outputs": [
        {
          "output_type": "stream",
          "name": "stdout",
          "text": [
            "   support   itemsets\n",
            "0     1.00        (A)\n",
            "1     1.00        (B)\n",
            "2     0.75        (D)\n",
            "3     1.00     (B, A)\n",
            "4     0.75     (D, A)\n",
            "5     0.75     (B, D)\n",
            "6     0.75  (D, B, A)\n",
            "   antecedents consequents  antecedent support  consequent support  support  \\\n",
            "0          (B)         (A)                1.00                1.00     1.00   \n",
            "1          (A)         (B)                1.00                1.00     1.00   \n",
            "2          (D)         (A)                0.75                1.00     0.75   \n",
            "3          (A)         (D)                1.00                0.75     0.75   \n",
            "4          (B)         (D)                1.00                0.75     0.75   \n",
            "5          (D)         (B)                0.75                1.00     0.75   \n",
            "6       (D, B)         (A)                0.75                1.00     0.75   \n",
            "7       (D, A)         (B)                0.75                1.00     0.75   \n",
            "8       (B, A)         (D)                1.00                0.75     0.75   \n",
            "9          (D)      (B, A)                0.75                1.00     0.75   \n",
            "10         (B)      (D, A)                1.00                0.75     0.75   \n",
            "11         (A)      (D, B)                1.00                0.75     0.75   \n",
            "\n",
            "    confidence  lift  leverage  conviction  \n",
            "0         1.00   1.0       0.0         inf  \n",
            "1         1.00   1.0       0.0         inf  \n",
            "2         1.00   1.0       0.0         inf  \n",
            "3         0.75   1.0       0.0         1.0  \n",
            "4         0.75   1.0       0.0         1.0  \n",
            "5         1.00   1.0       0.0         inf  \n",
            "6         1.00   1.0       0.0         inf  \n",
            "7         1.00   1.0       0.0         inf  \n",
            "8         0.75   1.0       0.0         1.0  \n",
            "9         1.00   1.0       0.0         inf  \n",
            "10        0.75   1.0       0.0         1.0  \n",
            "11        0.75   1.0       0.0         1.0  \n"
          ]
        }
      ]
    },
    {
      "cell_type": "markdown",
      "source": [
        "##Association rules found:<br>\n",
        "{A} => {B}<br>\n",
        "{B} => {A}<br>\n",
        "{D} => {A}<br>\n",
        "{D} => {B}<br>\n",
        "{D, B} => {A}<br>\n",
        "{D, A} => {B}<br>\n",
        "{D} => {B, A}<br>\n"
      ],
      "metadata": {
        "id": "qgmV-2m18qaX"
      }
    },
    {
      "cell_type": "code",
      "source": [
        ""
      ],
      "metadata": {
        "id": "0Cqp0B298gFU"
      },
      "execution_count": null,
      "outputs": []
    }
  ]
}